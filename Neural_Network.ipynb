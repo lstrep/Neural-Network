{
 "cells": [
  {
   "cell_type": "markdown",
   "id": "922d1677",
   "metadata": {},
   "source": [
    "# Deklaracja liczb dualnych (wykład)"
   ]
  },
  {
   "cell_type": "code",
   "execution_count": 1,
   "id": "e3d90121",
   "metadata": {},
   "outputs": [
    {
     "name": "stdout",
     "output_type": "stream",
     "text": [
      "Dual{Float64}[Dual(1, 2), Dual(3, 0)] = Dual{Float64}[(1.0) + [2.0ϵ], (3.0) + [0.0ϵ]]\n",
      "Dual{Float64}[1, 2, 3] = Dual{Float64}[(1.0) + [0.0ϵ], (2.0) + [0.0ϵ], (3.0) + [0.0ϵ]]\n",
      "Dual(1, 2) * 3 = (3) + [6ϵ]\n"
     ]
    }
   ],
   "source": [
    "#typ parametryczny liczby dualnej T # Zdefiniowanie struktury\n",
    "struct Dual{T <:Number} <:Number\n",
    "     v::T\n",
    "    dv::T\n",
    "end\n",
    "# Przeciążenie podstawowych operatorów\n",
    "import Base: +, -, *, /\n",
    "-(x::Dual)          = Dual(-x.v,       -x.dv)\n",
    "+(x::Dual, y::Dual) = Dual( x.v + y.v,  x.dv + y.dv)\n",
    "-(x::Dual, y::Dual) = Dual( x.v - y.v,  x.dv - y.dv)\n",
    "*(x::Dual, y::Dual) = Dual( x.v * y.v,  x.dv * y.v + x.v * y.dv)\n",
    "/(x::Dual, y::Dual) = Dual( x.v / y.v, (x.dv * y.v - x.v * y.dv)/y.v^2)\n",
    "# Przeciążenie podstawowych funkcji\n",
    "import Base: abs, sin, cos, tan, exp, sqrt, isless\n",
    "abs(x::Dual)  = Dual(abs(x.v),sign(x.v)*x.dv)\n",
    "sin(x::Dual)  = Dual(sin(x.v), cos(x.v)*x.dv)\n",
    "cos(x::Dual)  = Dual(cos(x.v),-sin(x.v)*x.dv)\n",
    "tan(x::Dual)  = Dual(tan(x.v), one(x.v)*x.dv + tan(x.v)^2*x.dv)\n",
    "exp(x::Dual)  = Dual(exp(x.v), exp(x.v)*x.dv)\n",
    "sqrt(x::Dual) = Dual(sqrt(x.v),.5/sqrt(x.v) * x.dv)\n",
    "isless(x::Dual, y::Dual) = x.v < y.v;\n",
    "# Pomocne funkcje\n",
    "import Base: show\n",
    "show(io::IO, x::Dual) = print(io, \"(\", x.v, \") + [\", x.dv, \"ϵ]\");\n",
    "value(x::Dual) = x.v;\n",
    "partials(x::Dual) = x.dv;\n",
    "# Promocja typów i konwersja\n",
    "import Base: convert, promote_rule\n",
    "convert(::Type{Dual{T}}, x::Dual) where T = Dual(convert(T, x.v), convert(T, x.dv))\n",
    "@show Dual{Float64}[Dual(1,2), Dual(3,0)];\n",
    "convert(::Type{Dual{T}}, x::Number) where T = Dual(convert(T, x), zero(T))\n",
    "@show Dual{Float64}[1, 2, 3];\n",
    "promote_rule(::Type{Dual{T}}, ::Type{R}) where {T,R} = Dual{promote_type(T,R)}\n",
    "@show Dual(1,2) * 3;\n",
    "\n"
   ]
  },
  {
   "cell_type": "code",
   "execution_count": 2,
   "id": "39deb935",
   "metadata": {},
   "outputs": [
    {
     "data": {
      "text/plain": [
       "Random.TaskLocalRNG()"
      ]
     },
     "execution_count": 2,
     "metadata": {},
     "output_type": "execute_result"
    }
   ],
   "source": [
    "import Random: seed!\n",
    "seed!(5555)"
   ]
  },
  {
   "cell_type": "markdown",
   "id": "f87fbe03",
   "metadata": {},
   "source": [
    "# Import iris dataset"
   ]
  },
  {
   "cell_type": "code",
   "execution_count": 3,
   "id": "3d39811d",
   "metadata": {},
   "outputs": [
    {
     "data": {
      "text/html": [
       "<div class=\"data-frame\"><p>150 rows × 5 columns</p><table class=\"data-frame\"><thead><tr><th></th><th>SepalLength</th><th>SepalWidth</th><th>PetalLength</th><th>PetalWidth</th><th>Species</th></tr><tr><th></th><th title=\"Float64\">Float64</th><th title=\"Float64\">Float64</th><th title=\"Float64\">Float64</th><th title=\"Float64\">Float64</th><th title=\"CategoricalArrays.CategoricalValue{String, UInt8}\">Cat…</th></tr></thead><tbody><tr><th>1</th><td>5.1</td><td>3.5</td><td>1.4</td><td>0.2</td><td>setosa</td></tr><tr><th>2</th><td>4.9</td><td>3.0</td><td>1.4</td><td>0.2</td><td>setosa</td></tr><tr><th>3</th><td>4.7</td><td>3.2</td><td>1.3</td><td>0.2</td><td>setosa</td></tr><tr><th>4</th><td>4.6</td><td>3.1</td><td>1.5</td><td>0.2</td><td>setosa</td></tr><tr><th>5</th><td>5.0</td><td>3.6</td><td>1.4</td><td>0.2</td><td>setosa</td></tr><tr><th>6</th><td>5.4</td><td>3.9</td><td>1.7</td><td>0.4</td><td>setosa</td></tr><tr><th>7</th><td>4.6</td><td>3.4</td><td>1.4</td><td>0.3</td><td>setosa</td></tr><tr><th>8</th><td>5.0</td><td>3.4</td><td>1.5</td><td>0.2</td><td>setosa</td></tr><tr><th>9</th><td>4.4</td><td>2.9</td><td>1.4</td><td>0.2</td><td>setosa</td></tr><tr><th>10</th><td>4.9</td><td>3.1</td><td>1.5</td><td>0.1</td><td>setosa</td></tr><tr><th>11</th><td>5.4</td><td>3.7</td><td>1.5</td><td>0.2</td><td>setosa</td></tr><tr><th>12</th><td>4.8</td><td>3.4</td><td>1.6</td><td>0.2</td><td>setosa</td></tr><tr><th>13</th><td>4.8</td><td>3.0</td><td>1.4</td><td>0.1</td><td>setosa</td></tr><tr><th>14</th><td>4.3</td><td>3.0</td><td>1.1</td><td>0.1</td><td>setosa</td></tr><tr><th>15</th><td>5.8</td><td>4.0</td><td>1.2</td><td>0.2</td><td>setosa</td></tr><tr><th>16</th><td>5.7</td><td>4.4</td><td>1.5</td><td>0.4</td><td>setosa</td></tr><tr><th>17</th><td>5.4</td><td>3.9</td><td>1.3</td><td>0.4</td><td>setosa</td></tr><tr><th>18</th><td>5.1</td><td>3.5</td><td>1.4</td><td>0.3</td><td>setosa</td></tr><tr><th>19</th><td>5.7</td><td>3.8</td><td>1.7</td><td>0.3</td><td>setosa</td></tr><tr><th>20</th><td>5.1</td><td>3.8</td><td>1.5</td><td>0.3</td><td>setosa</td></tr><tr><th>21</th><td>5.4</td><td>3.4</td><td>1.7</td><td>0.2</td><td>setosa</td></tr><tr><th>22</th><td>5.1</td><td>3.7</td><td>1.5</td><td>0.4</td><td>setosa</td></tr><tr><th>23</th><td>4.6</td><td>3.6</td><td>1.0</td><td>0.2</td><td>setosa</td></tr><tr><th>24</th><td>5.1</td><td>3.3</td><td>1.7</td><td>0.5</td><td>setosa</td></tr><tr><th>25</th><td>4.8</td><td>3.4</td><td>1.9</td><td>0.2</td><td>setosa</td></tr><tr><th>26</th><td>5.0</td><td>3.0</td><td>1.6</td><td>0.2</td><td>setosa</td></tr><tr><th>27</th><td>5.0</td><td>3.4</td><td>1.6</td><td>0.4</td><td>setosa</td></tr><tr><th>28</th><td>5.2</td><td>3.5</td><td>1.5</td><td>0.2</td><td>setosa</td></tr><tr><th>29</th><td>5.2</td><td>3.4</td><td>1.4</td><td>0.2</td><td>setosa</td></tr><tr><th>30</th><td>4.7</td><td>3.2</td><td>1.6</td><td>0.2</td><td>setosa</td></tr><tr><th>&vellip;</th><td>&vellip;</td><td>&vellip;</td><td>&vellip;</td><td>&vellip;</td><td>&vellip;</td></tr></tbody></table></div>"
      ],
      "text/latex": [
       "\\begin{tabular}{r|ccccc}\n",
       "\t& SepalLength & SepalWidth & PetalLength & PetalWidth & Species\\\\\n",
       "\t\\hline\n",
       "\t& Float64 & Float64 & Float64 & Float64 & Cat…\\\\\n",
       "\t\\hline\n",
       "\t1 & 5.1 & 3.5 & 1.4 & 0.2 & setosa \\\\\n",
       "\t2 & 4.9 & 3.0 & 1.4 & 0.2 & setosa \\\\\n",
       "\t3 & 4.7 & 3.2 & 1.3 & 0.2 & setosa \\\\\n",
       "\t4 & 4.6 & 3.1 & 1.5 & 0.2 & setosa \\\\\n",
       "\t5 & 5.0 & 3.6 & 1.4 & 0.2 & setosa \\\\\n",
       "\t6 & 5.4 & 3.9 & 1.7 & 0.4 & setosa \\\\\n",
       "\t7 & 4.6 & 3.4 & 1.4 & 0.3 & setosa \\\\\n",
       "\t8 & 5.0 & 3.4 & 1.5 & 0.2 & setosa \\\\\n",
       "\t9 & 4.4 & 2.9 & 1.4 & 0.2 & setosa \\\\\n",
       "\t10 & 4.9 & 3.1 & 1.5 & 0.1 & setosa \\\\\n",
       "\t11 & 5.4 & 3.7 & 1.5 & 0.2 & setosa \\\\\n",
       "\t12 & 4.8 & 3.4 & 1.6 & 0.2 & setosa \\\\\n",
       "\t13 & 4.8 & 3.0 & 1.4 & 0.1 & setosa \\\\\n",
       "\t14 & 4.3 & 3.0 & 1.1 & 0.1 & setosa \\\\\n",
       "\t15 & 5.8 & 4.0 & 1.2 & 0.2 & setosa \\\\\n",
       "\t16 & 5.7 & 4.4 & 1.5 & 0.4 & setosa \\\\\n",
       "\t17 & 5.4 & 3.9 & 1.3 & 0.4 & setosa \\\\\n",
       "\t18 & 5.1 & 3.5 & 1.4 & 0.3 & setosa \\\\\n",
       "\t19 & 5.7 & 3.8 & 1.7 & 0.3 & setosa \\\\\n",
       "\t20 & 5.1 & 3.8 & 1.5 & 0.3 & setosa \\\\\n",
       "\t21 & 5.4 & 3.4 & 1.7 & 0.2 & setosa \\\\\n",
       "\t22 & 5.1 & 3.7 & 1.5 & 0.4 & setosa \\\\\n",
       "\t23 & 4.6 & 3.6 & 1.0 & 0.2 & setosa \\\\\n",
       "\t24 & 5.1 & 3.3 & 1.7 & 0.5 & setosa \\\\\n",
       "\t25 & 4.8 & 3.4 & 1.9 & 0.2 & setosa \\\\\n",
       "\t26 & 5.0 & 3.0 & 1.6 & 0.2 & setosa \\\\\n",
       "\t27 & 5.0 & 3.4 & 1.6 & 0.4 & setosa \\\\\n",
       "\t28 & 5.2 & 3.5 & 1.5 & 0.2 & setosa \\\\\n",
       "\t29 & 5.2 & 3.4 & 1.4 & 0.2 & setosa \\\\\n",
       "\t30 & 4.7 & 3.2 & 1.6 & 0.2 & setosa \\\\\n",
       "\t$\\dots$ & $\\dots$ & $\\dots$ & $\\dots$ & $\\dots$ & $\\dots$ \\\\\n",
       "\\end{tabular}\n"
      ],
      "text/plain": [
       "\u001b[1m150×5 DataFrame\u001b[0m\n",
       "\u001b[1m Row \u001b[0m│\u001b[1m SepalLength \u001b[0m\u001b[1m SepalWidth \u001b[0m\u001b[1m PetalLength \u001b[0m\u001b[1m PetalWidth \u001b[0m\u001b[1m Species   \u001b[0m\n",
       "\u001b[1m     \u001b[0m│\u001b[90m Float64     \u001b[0m\u001b[90m Float64    \u001b[0m\u001b[90m Float64     \u001b[0m\u001b[90m Float64    \u001b[0m\u001b[90m Cat…      \u001b[0m\n",
       "─────┼─────────────────────────────────────────────────────────────\n",
       "   1 │         5.1         3.5          1.4         0.2  setosa\n",
       "   2 │         4.9         3.0          1.4         0.2  setosa\n",
       "   3 │         4.7         3.2          1.3         0.2  setosa\n",
       "   4 │         4.6         3.1          1.5         0.2  setosa\n",
       "   5 │         5.0         3.6          1.4         0.2  setosa\n",
       "   6 │         5.4         3.9          1.7         0.4  setosa\n",
       "   7 │         4.6         3.4          1.4         0.3  setosa\n",
       "   8 │         5.0         3.4          1.5         0.2  setosa\n",
       "   9 │         4.4         2.9          1.4         0.2  setosa\n",
       "  10 │         4.9         3.1          1.5         0.1  setosa\n",
       "  11 │         5.4         3.7          1.5         0.2  setosa\n",
       "  ⋮  │      ⋮           ⋮            ⋮           ⋮           ⋮\n",
       " 141 │         6.7         3.1          5.6         2.4  virginica\n",
       " 142 │         6.9         3.1          5.1         2.3  virginica\n",
       " 143 │         5.8         2.7          5.1         1.9  virginica\n",
       " 144 │         6.8         3.2          5.9         2.3  virginica\n",
       " 145 │         6.7         3.3          5.7         2.5  virginica\n",
       " 146 │         6.7         3.0          5.2         2.3  virginica\n",
       " 147 │         6.3         2.5          5.0         1.9  virginica\n",
       " 148 │         6.5         3.0          5.2         2.0  virginica\n",
       " 149 │         6.2         3.4          5.4         2.3  virginica\n",
       " 150 │         5.9         3.0          5.1         1.8  virginica\n",
       "\u001b[36m                                                   129 rows omitted\u001b[0m"
      ]
     },
     "execution_count": 3,
     "metadata": {},
     "output_type": "execute_result"
    }
   ],
   "source": [
    "using RDatasets\n",
    "\n",
    "iris = dataset(\"datasets\", \"iris\")\n",
    "\n"
   ]
  },
  {
   "cell_type": "code",
   "execution_count": 4,
   "id": "9e937e8a",
   "metadata": {},
   "outputs": [
    {
     "data": {
      "text/plain": [
       "150-element CategoricalArrays.CategoricalArray{String,1,UInt8}:\n",
       " \"setosa\"\n",
       " \"setosa\"\n",
       " \"setosa\"\n",
       " \"setosa\"\n",
       " \"setosa\"\n",
       " \"setosa\"\n",
       " \"setosa\"\n",
       " \"setosa\"\n",
       " \"setosa\"\n",
       " \"setosa\"\n",
       " \"setosa\"\n",
       " \"setosa\"\n",
       " \"setosa\"\n",
       " ⋮\n",
       " \"virginica\"\n",
       " \"virginica\"\n",
       " \"virginica\"\n",
       " \"virginica\"\n",
       " \"virginica\"\n",
       " \"virginica\"\n",
       " \"virginica\"\n",
       " \"virginica\"\n",
       " \"virginica\"\n",
       " \"virginica\"\n",
       " \"virginica\"\n",
       " \"virginica\""
      ]
     },
     "execution_count": 4,
     "metadata": {},
     "output_type": "execute_result"
    }
   ],
   "source": [
    "input = Matrix(iris[:, 1:4])\n",
    "output = iris[:,5]"
   ]
  },
  {
   "cell_type": "markdown",
   "id": "eb44f7e0",
   "metadata": {},
   "source": [
    "# Dzielelnie danych na dwa zestawy w podanej proporcji 4:1"
   ]
  },
  {
   "cell_type": "code",
   "execution_count": 5,
   "id": "376772d1",
   "metadata": {},
   "outputs": [
    {
     "data": {
      "text/plain": [
       "randomizeSets (generic function with 1 method)"
      ]
     },
     "execution_count": 5,
     "metadata": {},
     "output_type": "execute_result"
    }
   ],
   "source": [
    "using Random\n",
    "\n",
    "function randomizeSets(input, output)\n",
    "    proportion = 0.8\n",
    "    n = length(output)\n",
    "\n",
    "\n",
    "    trainNumber = ceil(Int, proportion*n)\n",
    "    i = randperm(n)\n",
    "    \n",
    "    trainData = i[1:trainNumber]\n",
    "    testData = i[trainNumber+1:end]\n",
    "\n",
    "    return selectdim(input, 1, trainData), output[trainData], selectdim(input, 1, testData), output[testData]\n",
    "end"
   ]
  },
  {
   "cell_type": "code",
   "execution_count": 6,
   "id": "235589ed",
   "metadata": {},
   "outputs": [
    {
     "data": {
      "text/plain": [
       "([6.7 3.0 5.2 2.3; 6.7 2.5 5.8 1.8; … ; 6.0 2.2 5.0 1.5; 6.1 2.8 4.0 1.3], CategoricalArrays.CategoricalValue{String, UInt8}[\"virginica\", \"virginica\", \"virginica\", \"versicolor\", \"virginica\", \"virginica\", \"versicolor\", \"setosa\", \"setosa\", \"versicolor\"  …  \"setosa\", \"versicolor\", \"versicolor\", \"versicolor\", \"setosa\", \"setosa\", \"setosa\", \"versicolor\", \"virginica\", \"versicolor\"], [5.6 3.0 4.1 1.3; 5.0 3.0 1.6 0.2; … ; 5.2 3.5 1.5 0.2; 6.4 3.1 5.5 1.8], CategoricalArrays.CategoricalValue{String, UInt8}[\"versicolor\", \"setosa\", \"versicolor\", \"virginica\", \"virginica\", \"setosa\", \"virginica\", \"virginica\", \"setosa\", \"setosa\"  …  \"versicolor\", \"versicolor\", \"versicolor\", \"versicolor\", \"versicolor\", \"setosa\", \"setosa\", \"virginica\", \"setosa\", \"virginica\"])"
      ]
     },
     "execution_count": 6,
     "metadata": {},
     "output_type": "execute_result"
    }
   ],
   "source": [
    "trainInputs, trainOutputs, testInputs, testOutputs = randomizeSets(input, output)"
   ]
  },
  {
   "cell_type": "markdown",
   "id": "1f407988",
   "metadata": {},
   "source": [
    "# Funkcja zmieniająca nazwy kwiatów na wartości liczbowe np. [0,0,1]"
   ]
  },
  {
   "cell_type": "code",
   "execution_count": 7,
   "id": "5ac8dfc3",
   "metadata": {},
   "outputs": [
    {
     "data": {
      "text/plain": [
       "onehot (generic function with 1 method)"
      ]
     },
     "execution_count": 7,
     "metadata": {},
     "output_type": "execute_result"
    }
   ],
   "source": [
    "function onehot(data, classes)\n",
    "    data_onehot = falses(length(classes), length(data))\n",
    "    for (i, class) in enumerate(classes)\n",
    "        data_onehot[i, data .== class] .= 1\n",
    "    end\n",
    "    return data_onehot\n",
    "end"
   ]
  },
  {
   "cell_type": "markdown",
   "id": "82553c12",
   "metadata": {},
   "source": [
    "# Funkcja zmieniająca wartości liczbowe na nazwy kwiatów, największą wartość zamienia na 1, resztę cyfr na 0: np. [0.321, 0.24, -0.1] zamieni na [1,0,0]"
   ]
  },
  {
   "cell_type": "code",
   "execution_count": 8,
   "id": "fc3c5015",
   "metadata": {},
   "outputs": [
    {
     "data": {
      "text/plain": [
       "onecold (generic function with 1 method)"
      ]
     },
     "execution_count": 8,
     "metadata": {},
     "output_type": "execute_result"
    }
   ],
   "source": [
    "onecold(data, classes) = [classes[argmax(data_col)] for data_col in eachcol(data)]"
   ]
  },
  {
   "cell_type": "code",
   "execution_count": 9,
   "id": "10b5e2ab",
   "metadata": {
    "scrolled": true
   },
   "outputs": [
    {
     "data": {
      "text/plain": [
       "3-element Vector{String}:\n",
       " \"virginica\"\n",
       " \"versicolor\"\n",
       " \"setosa\""
      ]
     },
     "execution_count": 9,
     "metadata": {},
     "output_type": "execute_result"
    }
   ],
   "source": [
    "classes = unique(trainOutputs)"
   ]
  },
  {
   "cell_type": "code",
   "execution_count": 10,
   "id": "862e9566",
   "metadata": {
    "scrolled": false
   },
   "outputs": [
    {
     "data": {
      "text/plain": [
       "3×120 BitMatrix:\n",
       " 1  1  1  0  1  1  0  0  0  0  1  0  0  …  0  0  0  0  0  0  0  0  0  0  1  0\n",
       " 0  0  0  1  0  0  1  0  0  1  0  0  1     0  0  0  1  1  1  0  0  0  1  0  1\n",
       " 0  0  0  0  0  0  0  1  1  0  0  1  0     1  1  1  0  0  0  1  1  1  0  0  0"
      ]
     },
     "execution_count": 10,
     "metadata": {},
     "output_type": "execute_result"
    }
   ],
   "source": [
    "trainOutputs = onehot(trainOutputs, classes)"
   ]
  },
  {
   "cell_type": "markdown",
   "id": "f15929d4",
   "metadata": {},
   "source": [
    "# Deklaracje z wykładu:"
   ]
  },
  {
   "cell_type": "code",
   "execution_count": 11,
   "id": "5637fdfd",
   "metadata": {},
   "outputs": [
    {
     "data": {
      "text/plain": [
       "softmax (generic function with 1 method)"
      ]
     },
     "execution_count": 11,
     "metadata": {},
     "output_type": "execute_result"
    }
   ],
   "source": [
    "fullyconnected(w::Vector, n::Number, m::Number, v::Vector, activation::Function) = activation.(reshape(w, n, m) * v)\n",
    "ReLU(x) = max(zero(x), x)\n",
    "mean_squared_loss(y, ŷ) = sum(0.5(y - ŷ).^2)\n",
    "σ(x) = one(x) / (one(x) + exp(-x))\n",
    "linear(x) = x\n",
    "softmax(x) = exp.(x) ./ sum(exp.(x))\n"
   ]
  },
  {
   "cell_type": "markdown",
   "id": "5aa5eda6",
   "metadata": {},
   "source": [
    "# Macierz jacobiego do różniczkowania (wykład)"
   ]
  },
  {
   "cell_type": "code",
   "execution_count": 12,
   "id": "1b62fbe8",
   "metadata": {},
   "outputs": [
    {
     "data": {
      "text/plain": [
       "jacobian (generic function with 1 method)"
      ]
     },
     "execution_count": 12,
     "metadata": {},
     "output_type": "execute_result"
    }
   ],
   "source": [
    "J = function jacobian(f, args::Vector{T}) where {T <:Number}\n",
    "    jacobian_columns = Matrix{T}[]\n",
    "    \n",
    "    for i=1:length(args)\n",
    "        x = Dual{T}[]\n",
    "        for j=1:length(args)\n",
    "            seed = (i == j)\n",
    "            push!(x, seed ?\n",
    "                Dual(args[j], one(args[j])) :\n",
    "                Dual(args[j],zero(args[j])) )\n",
    "        end\n",
    "        column = partials.([f(x)...])\n",
    "        push!(jacobian_columns, column[:,:])\n",
    "    end\n",
    "    hcat(jacobian_columns...)\n",
    "end"
   ]
  },
  {
   "cell_type": "markdown",
   "id": "c5b67fdc",
   "metadata": {},
   "source": [
    "# Specyfiakcja liczby neuronów w jednej, ukrytej warstwie"
   ]
  },
  {
   "cell_type": "code",
   "execution_count": 13,
   "id": "f5044592",
   "metadata": {},
   "outputs": [
    {
     "data": {
      "text/plain": [
       "20"
      ]
     },
     "execution_count": 13,
     "metadata": {},
     "output_type": "execute_result"
    }
   ],
   "source": [
    "no_neurons = 20"
   ]
  },
  {
   "cell_type": "markdown",
   "id": "51cc277c",
   "metadata": {},
   "source": [
    "# Losowanie wag"
   ]
  },
  {
   "cell_type": "code",
   "execution_count": 14,
   "id": "92407e61",
   "metadata": {},
   "outputs": [
    {
     "data": {
      "text/plain": [
       "Float64[]"
      ]
     },
     "execution_count": 14,
     "metadata": {},
     "output_type": "execute_result"
    }
   ],
   "source": [
    "Wh = randn(no_neurons,4)\n",
    "Wo = randn(3,no_neurons)\n",
    "dWh = similar(Wh)\n",
    "dWo = similar(Wo)\n",
    "E = Float64[]\n",
    "Accuracy = Float64[]"
   ]
  },
  {
   "cell_type": "code",
   "execution_count": 15,
   "id": "91e7d69c",
   "metadata": {},
   "outputs": [
    {
     "data": {
      "text/plain": [
       "20×4 Matrix{Float64}:\n",
       " -1.11348     -0.0340311   0.191851    0.723227\n",
       " -0.131633    -1.14466    -2.42235     0.741319\n",
       "  2.16007      0.811691   -0.382707    0.65982\n",
       " -0.341519    -0.366238    0.343368    0.0531781\n",
       "  1.17708      0.845738    1.09125     0.744773\n",
       " -0.375181     1.84336    -2.01023     0.295086\n",
       "  1.29543     -1.33399     1.26236     0.101986\n",
       " -1.82203      0.463119    1.65616     2.37932\n",
       "  0.571623    -1.25315     1.3346     -0.00786125\n",
       " -0.00353613   1.04521    -1.09272    -1.19822\n",
       "  0.763752    -0.210283   -1.00217    -0.0796579\n",
       "  0.0882155    1.27133    -0.663863   -1.44673\n",
       " -0.832174     0.476609   -0.984626   -0.0703005\n",
       " -1.22842     -0.928746    2.47547     0.487118\n",
       " -0.631503    -0.506011   -0.200663   -0.405165\n",
       "  1.01953      0.651491    0.143051    1.46121\n",
       "  0.442197    -0.47723     0.768861   -0.150785\n",
       " -1.37122      0.450407    0.0558977   0.929183\n",
       " -0.400785    -1.50552     1.58434    -0.400396\n",
       "  0.271303     0.77162    -1.66481    -0.226923"
      ]
     },
     "execution_count": 15,
     "metadata": {},
     "output_type": "execute_result"
    }
   ],
   "source": [
    "Wh"
   ]
  },
  {
   "cell_type": "code",
   "execution_count": 16,
   "id": "ec9a42d5",
   "metadata": {},
   "outputs": [
    {
     "data": {
      "text/plain": [
       "(3, 20)"
      ]
     },
     "execution_count": 16,
     "metadata": {},
     "output_type": "execute_result"
    }
   ],
   "source": [
    "Wh_n, Wh_m = size(Wh)\n",
    "Wo_n, Wo_m = size(Wo)"
   ]
  },
  {
   "cell_type": "markdown",
   "id": "36a34e9e",
   "metadata": {},
   "source": [
    "# sieć (wykład)"
   ]
  },
  {
   "cell_type": "code",
   "execution_count": 17,
   "id": "715fc67a",
   "metadata": {},
   "outputs": [
    {
     "data": {
      "text/plain": [
       "net (generic function with 1 method)"
      ]
     },
     "execution_count": 17,
     "metadata": {},
     "output_type": "execute_result"
    }
   ],
   "source": [
    "function net(x, wh, wo, y)\n",
    "    x̂ = fullyconnected(wh, no_neurons, 4, x, σ)\n",
    "    ŷ = fullyconnected(wo, 3, no_neurons, x̂, u->u)\n",
    "    \n",
    "    E = mean_squared_loss(y, ŷ)\n",
    "end\n"
   ]
  },
  {
   "cell_type": "markdown",
   "id": "64dcd307",
   "metadata": {},
   "source": [
    "# Nieznacznie zmieniłem wzory z książki: ∇f = dW,  θ = Wx"
   ]
  },
  {
   "cell_type": "markdown",
   "id": "7dda3e23",
   "metadata": {},
   "source": [
    "# Testowałem różne metody optymializacyjne z wykładu, poniżej znajdują się ich deklaracje"
   ]
  },
  {
   "cell_type": "markdown",
   "id": "7fb637af",
   "metadata": {},
   "source": [
    "# Gradient Descent"
   ]
  },
  {
   "cell_type": "code",
   "execution_count": 18,
   "id": "bde75c7e",
   "metadata": {},
   "outputs": [
    {
     "data": {
      "text/plain": [
       "GradientDescent(0.1)"
      ]
     },
     "execution_count": 18,
     "metadata": {},
     "output_type": "execute_result"
    }
   ],
   "source": [
    "abstract type DescentMethod end\n",
    "struct GradientDescent <: DescentMethod\n",
    " α # learning rate\n",
    "end\n",
    "\n",
    "function step!(M::GradientDescent, dW, Wx)\n",
    " α, g = M.α, dW\n",
    " return Wx - α*g\n",
    "end\n",
    "\n",
    "opt = GradientDescent(0.1)"
   ]
  },
  {
   "cell_type": "markdown",
   "id": "2af5cdee",
   "metadata": {},
   "source": [
    "# Momentum"
   ]
  },
  {
   "cell_type": "code",
   "execution_count": 19,
   "id": "e804a82f",
   "metadata": {},
   "outputs": [
    {
     "data": {
      "text/plain": [
       "Momentum(#undef, #undef, #undef)"
      ]
     },
     "execution_count": 19,
     "metadata": {},
     "output_type": "execute_result"
    }
   ],
   "source": [
    "mutable struct Momentum <: DescentMethod\n",
    " α # learning rate\n",
    " β # momentum decay\n",
    " v # momentum\n",
    " Momentum() = new() # new uninitialized structure\n",
    "end\n",
    "\n",
    "function init!(M::Momentum, θ; α=0.01, β=0.5)\n",
    " M.α = α\n",
    " M.β = β\n",
    " M.v = zero(θ)\n",
    " return M\n",
    "end\n",
    "\n",
    "function step!(M::Momentum, dW, Wx)\n",
    " α, β = M.α, M.β\n",
    " v, g = M.v, dW\n",
    " v[:] = β*v .- α*g\n",
    " return Wx + v\n",
    "end\n",
    "optMomentumWh = Momentum() # create an uninitialized Momentum optimizer\n",
    "optMomentumWo = Momentum()"
   ]
  },
  {
   "cell_type": "markdown",
   "id": "ec8604d2",
   "metadata": {},
   "source": [
    "# Adam"
   ]
  },
  {
   "cell_type": "code",
   "execution_count": 20,
   "id": "887ff0b2",
   "metadata": {},
   "outputs": [
    {
     "data": {
      "text/plain": [
       "init! (generic function with 2 methods)"
      ]
     },
     "execution_count": 20,
     "metadata": {},
     "output_type": "execute_result"
    }
   ],
   "source": [
    "mutable struct Adam <: DescentMethod\n",
    " α # learning rate\n",
    " ε # small value\n",
    " v # sum gradient\n",
    " s # sum of squared gradient\n",
    " γs # gradient decay\n",
    " γv # momentum decay\n",
    " k # step counter\n",
    " Adam() = new() # new uninitialized structure\n",
    "end\n",
    "\n",
    "function init!(M::Adam, θ; α=0.001, γv=0.9, γs=0.999, ε=1e-8)\n",
    " M.α = α\n",
    " M.ε = ε\n",
    " M.γs = γs\n",
    " M.γv = γv\n",
    " M.s = zero(θ)\n",
    " M.v = zero(θ)\n",
    " M.k = 0\n",
    " return M\n",
    "end"
   ]
  },
  {
   "cell_type": "code",
   "execution_count": 21,
   "id": "2552b6ad",
   "metadata": {},
   "outputs": [
    {
     "data": {
      "text/plain": [
       "step! (generic function with 3 methods)"
      ]
     },
     "execution_count": 21,
     "metadata": {},
     "output_type": "execute_result"
    }
   ],
   "source": [
    "function step!(M::Adam, dW, Wx)\n",
    " γs, γv = M.γs, M.γv\n",
    " α, ε, k = M.α, M.ε, M.k\n",
    " s, v, g = M.s, M.v, dW\n",
    " v[:] = γv*v + (1.0 - γv) * g\n",
    " s[:] = γs*s + (1.0 - γs) * g .* g\n",
    " M.k = k += 1\n",
    "v̂ = v ./ (1.0 - γv^k)\n",
    " ŝ = s ./ (1.0 - γs^k)\n",
    " return Wx - α*v̂ ./ (sqrt.(ŝ) .+ ε)\n",
    "end"
   ]
  },
  {
   "cell_type": "code",
   "execution_count": 22,
   "id": "66c7e967",
   "metadata": {},
   "outputs": [
    {
     "data": {
      "text/plain": [
       "Adam(#undef, #undef, #undef, #undef, #undef, #undef, #undef)"
      ]
     },
     "execution_count": 22,
     "metadata": {},
     "output_type": "execute_result"
    }
   ],
   "source": [
    "optAdamWh = Adam()\n",
    "optAdamWo = Adam()"
   ]
  },
  {
   "cell_type": "markdown",
   "id": "e40ea5dd",
   "metadata": {},
   "source": [
    "# Adadelta"
   ]
  },
  {
   "cell_type": "code",
   "execution_count": 23,
   "id": "522a417d",
   "metadata": {},
   "outputs": [
    {
     "data": {
      "text/plain": [
       "Adadelta(#undef, #undef, #undef, #undef, #undef)"
      ]
     },
     "execution_count": 23,
     "metadata": {},
     "output_type": "execute_result"
    }
   ],
   "source": [
    "mutable struct Adadelta <: DescentMethod\n",
    " ε # small value\n",
    " s # sum of squared gradient\n",
    " u # sum of squared update\n",
    " γs # gradient decay\n",
    " γθ # update decay\n",
    " Adadelta() = new() # new uninitialized structure\n",
    "end\n",
    "function init!(M::Adadelta, θ; γs=0.9, γθ= 0.5, ε=1e-8)\n",
    " M.ε = ε\n",
    " M.s = zero(θ)\n",
    " M.u = zero(θ)\n",
    " M.γs = γs\n",
    " return M\n",
    "end\n",
    "function step!(M::Adadelta, dW, Wx)\n",
    " γs, γθ, ε = M.γs, M.γθ, M.ε\n",
    " s, u, g = M.s, M.u, dW\n",
    " s[:] = γs*s + (1.0 - γs) * g .* g\n",
    " Δθ = - (sqrt.(u) .+ ε) ./ (sqrt.(s) .+ ε) .* g\n",
    " u[:] = γθ*u + (1.0 - γθ) * Δθ .* Δθ\n",
    " return Wx + Δθ\n",
    "end\n",
    "optAdadelta = Adadelta()"
   ]
  },
  {
   "cell_type": "markdown",
   "id": "d6b68dce",
   "metadata": {},
   "source": [
    "# Funkcja testująca dokładność modelu"
   ]
  },
  {
   "cell_type": "code",
   "execution_count": 24,
   "id": "6f413941",
   "metadata": {},
   "outputs": [
    {
     "data": {
      "text/plain": [
       "getAccuracy (generic function with 1 method)"
      ]
     },
     "execution_count": 24,
     "metadata": {},
     "output_type": "execute_result"
    }
   ],
   "source": [
    "function getAccuracy()\n",
    "    match = 0\n",
    "    for i in 1:length(testInputs[:,1])\n",
    "        \n",
    "        x = copy(testInputs[i,:]) \n",
    "        x̂ = copy(fullyconnected(Wh[:], no_neurons, 4, x, σ))\n",
    "        ŷ = copy(fullyconnected(Wo[:], 3, no_neurons, x̂, u->u))\n",
    "\n",
    "        if onecold(ŷ,classes)[1] == testOutputs[i]\n",
    "            match += 1\n",
    "        end \n",
    "    end \n",
    "    \n",
    "    return match/length(testInputs[:,1])\n",
    "end\n",
    "#     print(\"Classified as: \" )\n",
    "#     print(onecold(ŷ,classes)[1])\n",
    "#     print(\" \")\n",
    "    \n",
    "#     print(testInputs[i,:])\n",
    "#     print(\" correct classification: \")\n",
    "#     print(testOutputs[i])\n",
    " \n",
    "#     println()\n"
   ]
  },
  {
   "cell_type": "markdown",
   "id": "566003f2",
   "metadata": {},
   "source": [
    "# Uczenie sieci nuronowej z optymalizacją Momentum"
   ]
  },
  {
   "cell_type": "code",
   "execution_count": 25,
   "id": "ad8581a0",
   "metadata": {},
   "outputs": [
    {
     "data": {
      "text/plain": [
       "121-element Vector{Float64}:\n",
       " 0.26666666666666666\n",
       " 0.26666666666666666\n",
       " 0.3\n",
       " 0.26666666666666666\n",
       " 0.36666666666666664\n",
       " 0.3\n",
       " 0.3\n",
       " 0.4\n",
       " 0.7333333333333333\n",
       " 0.7333333333333333\n",
       " 0.7333333333333333\n",
       " 0.6333333333333333\n",
       " 0.9666666666666667\n",
       " ⋮\n",
       " 0.9333333333333333\n",
       " 0.9333333333333333\n",
       " 0.9333333333333333\n",
       " 0.8\n",
       " 1.0\n",
       " 0.9666666666666667\n",
       " 0.9666666666666667\n",
       " 0.9666666666666667\n",
       " 0.9666666666666667\n",
       " 1.0\n",
       " 0.7666666666666667\n",
       " 1.0"
      ]
     },
     "execution_count": 25,
     "metadata": {},
     "output_type": "execute_result"
    }
   ],
   "source": [
    "for i in 1:length(trainInputs[:,1])\n",
    "        \n",
    "        x = copy(trainInputs[i,:])\n",
    "        y = copy(trainOutputs[:,i]) \n",
    "\n",
    "        Ei = net(x, Wh[:], Wo[:], y)\n",
    "        push!(E, Ei)\n",
    "        acc = getAccuracy()\n",
    "        push!(Accuracy, acc)\n",
    "        \n",
    "            dnet_Wh(x, wh, wo, y) = J(w -> net(x, w, wo, y), wh);\n",
    "            dnet_Wo(x, wh, wo, y) = J(w -> net(x, wh, w, y), wo);\n",
    "    \n",
    "          init!(optMomentumWh, dWh)\n",
    "          init!(optMomentumWo, dWo)\n",
    "        \n",
    "        epchos = 10\n",
    "        for i=1:epchos\n",
    "        \n",
    "            dWh[:] = dnet_Wh(x, Wh[:], Wo[:], y);\n",
    "            dWo[:] = dnet_Wo(x, Wh[:], Wo[:], y);\n",
    "        \n",
    "             Wh = step!(optMomentumWh, dWh, Wh)        \n",
    "             Wo = step!(optMomentumWo, dWo, Wo)\n",
    "        \n",
    "#                       Wh -= 0.1dWh\n",
    "#                       Wo -= 0.1dWo\n",
    "        \n",
    "        end\n",
    "    \n",
    "end\n",
    "            acc = getAccuracy()\n",
    "            push!(Accuracy, acc)\n",
    "    \n",
    "    \n",
    "    \n",
    "    "
   ]
  },
  {
   "cell_type": "code",
   "execution_count": null,
   "id": "dff71a4e",
   "metadata": {},
   "outputs": [],
   "source": []
  },
  {
   "cell_type": "code",
   "execution_count": 26,
   "id": "8792060a",
   "metadata": {
    "scrolled": true
   },
   "outputs": [
    {
     "data": {
      "text/plain": [
       "120-element Vector{Float64}:\n",
       " 8.28425867225273\n",
       " 0.04429720547794186\n",
       " 0.07086227134482855\n",
       " 1.3336709636766781\n",
       " 0.6483147352982638\n",
       " 0.030539720122925253\n",
       " 0.5526828449525641\n",
       " 0.37120354559159086\n",
       " 0.10946213144178514\n",
       " 0.540589145488714\n",
       " 0.9011654786111382\n",
       " 0.5426443340964566\n",
       " 0.21140135185574777\n",
       " ⋮\n",
       " 0.06655171943855986\n",
       " 0.016988620810659636\n",
       " 0.05690394990231063\n",
       " 0.05762292899261505\n",
       " 0.21322577532213524\n",
       " 0.006815962986986415\n",
       " 0.10881243060564183\n",
       " 0.0028543787428989206\n",
       " 0.013095031555548343\n",
       " 0.051359063823469005\n",
       " 0.13288221847675352\n",
       " 0.11662620901602157"
      ]
     },
     "execution_count": 26,
     "metadata": {},
     "output_type": "execute_result"
    }
   ],
   "source": [
    "E"
   ]
  },
  {
   "cell_type": "code",
   "execution_count": 27,
   "id": "e7763bd3",
   "metadata": {},
   "outputs": [],
   "source": [
    "using PyPlot"
   ]
  },
  {
   "cell_type": "markdown",
   "id": "f8800fc0",
   "metadata": {},
   "source": [
    "# Funkcja straty"
   ]
  },
  {
   "cell_type": "code",
   "execution_count": 28,
   "id": "5ea9c86a",
   "metadata": {},
   "outputs": [
    {
     "data": {
      "image/png": "[encoded data removed]",
      "text/plain": [
       "Figure(PyObject <Figure size 640x480 with 1 Axes>)"
      ]
     },
     "metadata": {},
     "output_type": "display_data"
    },
    {
     "data": {
      "text/plain": [
       "PyObject Text(24.000000000000007, 0.5, 'koszt')"
      ]
     },
     "execution_count": 28,
     "metadata": {},
     "output_type": "execute_result"
    }
   ],
   "source": [
    "plot(E)\n",
    "xlabel(\"epoka\")\n",
    "ylabel(\"koszt\")"
   ]
  },
  {
   "cell_type": "markdown",
   "id": "5cb39663",
   "metadata": {},
   "source": [
    "# Dokładność modelu"
   ]
  },
  {
   "cell_type": "code",
   "execution_count": 29,
   "id": "a3ec610a",
   "metadata": {},
   "outputs": [
    {
     "data": {
      "image/png": "[encoded data removed]",
      "text/plain": [
       "Figure(PyObject <Figure size 640x480 with 1 Axes>)"
      ]
     },
     "metadata": {},
     "output_type": "display_data"
    },
    {
     "data": {
      "text/plain": [
       "PyObject Text(24.000000000000007, 0.5, 'dokładość modelu')"
      ]
     },
     "execution_count": 29,
     "metadata": {},
     "output_type": "execute_result"
    }
   ],
   "source": [
    "plot(Accuracy)\n",
    "xlabel(\"epoka\")\n",
    "ylabel(\"dokładość modelu\")"
   ]
  },
  {
   "cell_type": "markdown",
   "id": "95ddaaa1",
   "metadata": {},
   "source": [
    "# Dokładność modelu"
   ]
  },
  {
   "cell_type": "code",
   "execution_count": 30,
   "id": "93ad79a2",
   "metadata": {},
   "outputs": [
    {
     "name": "stdout",
     "output_type": "stream",
     "text": [
      "Dokładość modelu: 1.0"
     ]
    }
   ],
   "source": [
    "print(\"Dokładość modelu: \", getAccuracy())"
   ]
  },
  {
   "cell_type": "markdown",
   "id": "8ba36c3b",
   "metadata": {},
   "source": [
    "# Weryfikacja poprawności wyników"
   ]
  },
  {
   "cell_type": "markdown",
   "id": "cee52026",
   "metadata": {},
   "source": [
    "# Losowanie i podział danych dokonane na początku pozwala mi na późniejsze przepuszczenie przez model czterech liczb opisujących kwiaty(testInputs), określenie ich przynależności na podstawie wytrenowanego modelu oraz późniejszą weryfikację na podstawie indeksów w tabeli (TestOutputs)"
   ]
  },
  {
   "cell_type": "code",
   "execution_count": 31,
   "id": "632bcf6d",
   "metadata": {},
   "outputs": [
    {
     "name": "stdout",
     "output_type": "stream",
     "text": [
      "Classified as: versicolor [5.6, 3.0, 4.1, 1.3] correct classification: versicolor\n",
      "Classified as: setosa [5.0, 3.0, 1.6, 0.2] correct classification: setosa\n",
      "Classified as: versicolor [6.3, 2.5, 4.9, 1.5] correct classification: versicolor\n",
      "Classified as: virginica [7.2, 3.0, 5.8, 1.6] correct classification: virginica\n",
      "Classified as: virginica [7.4, 2.8, 6.1, 1.9] correct classification: virginica\n",
      "Classified as: setosa [4.4, 3.2, 1.3, 0.2] correct classification: setosa\n",
      "Classified as: virginica [7.7, 2.8, 6.7, 2.0] correct classification: virginica\n",
      "Classified as: virginica [7.6, 3.0, 6.6, 2.1] correct classification: virginica\n",
      "Classified as: setosa [4.9, 3.1, 1.5, 0.2] correct classification: setosa\n",
      "Classified as: setosa [5.0, 3.3, 1.4, 0.2] correct classification: setosa\n",
      "Classified as: virginica [6.4, 2.7, 5.3, 1.9] correct classification: virginica\n",
      "Classified as: setosa [5.4, 3.9, 1.3, 0.4] correct classification: setosa\n",
      "Classified as: setosa [5.5, 3.5, 1.3, 0.2] correct classification: setosa\n",
      "Classified as: versicolor [5.7, 2.6, 3.5, 1.0] correct classification: versicolor\n",
      "Classified as: setosa [5.1, 3.5, 1.4, 0.3] correct classification: setosa\n",
      "Classified as: setosa [4.3, 3.0, 1.1, 0.1] correct classification: setosa\n",
      "Classified as: versicolor [5.8, 2.7, 3.9, 1.2] correct classification: versicolor\n",
      "Classified as: virginica [5.8, 2.8, 5.1, 2.4] correct classification: virginica\n",
      "Classified as: setosa [5.1, 3.7, 1.5, 0.4] correct classification: setosa\n",
      "Classified as: versicolor [6.7, 3.0, 5.0, 1.7] correct classification: versicolor\n",
      "Classified as: versicolor [6.1, 2.9, 4.7, 1.4] correct classification: versicolor\n",
      "Classified as: versicolor [6.9, 3.1, 4.9, 1.5] correct classification: versicolor\n",
      "Classified as: versicolor [5.7, 2.9, 4.2, 1.3] correct classification: versicolor\n",
      "Classified as: versicolor [6.5, 2.8, 4.6, 1.5] correct classification: versicolor\n",
      "Classified as: versicolor [6.7, 3.1, 4.4, 1.4] correct classification: versicolor\n",
      "Classified as: setosa [4.6, 3.4, 1.4, 0.3] correct classification: setosa\n",
      "Classified as: setosa [5.0, 3.6, 1.4, 0.2] correct classification: setosa\n",
      "Classified as: virginica [5.8, 2.7, 5.1, 1.9] correct classification: virginica\n",
      "Classified as: setosa [5.2, 3.5, 1.5, 0.2] correct classification: setosa\n",
      "Classified as: virginica [6.4, 3.1, 5.5, 1.8] correct classification: virginica\n"
     ]
    }
   ],
   "source": [
    "    for i in 1:length(testInputs[:,1])\n",
    "        x = copy(testInputs[i,:]) \n",
    "        x̂ = copy(fullyconnected(Wh[:], no_neurons, 4, x, σ))\n",
    "        ŷ = copy(fullyconnected(Wo[:], 3, no_neurons, x̂, u->u))\n",
    "    \n",
    "    print(\"Classified as: \" )\n",
    "    print(onecold(ŷ,classes)[1])\n",
    "    print(\" \")\n",
    "    \n",
    "    print(testInputs[i,:])\n",
    "    print(\" correct classification: \")\n",
    "    print(testOutputs[i])\n",
    " \n",
    "    println()     \n",
    "     \n",
    "    end\n",
    "\n"
   ]
  }
 ],
 "metadata": {
  "kernelspec": {
   "display_name": "Julia 1.7.2",
   "language": "julia",
   "name": "julia-1.7"
  },
  "language_info": {
   "file_extension": ".jl",
   "mimetype": "application/julia",
   "name": "julia",
   "version": "1.7.2"
  }
 },
 "nbformat": 4,
 "nbformat_minor": 5
}
